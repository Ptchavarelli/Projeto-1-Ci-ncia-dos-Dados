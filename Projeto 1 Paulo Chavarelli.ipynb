{
 "cells": [
  {
   "cell_type": "markdown",
   "metadata": {},
   "source": [
    "# Projeto 1-Ciência dos dados-Paulo Chavarelli"
   ]
  },
  {
   "cell_type": "markdown",
   "metadata": {},
   "source": [
    "# Pergunta\n",
    "\n",
    "O IDH(indice de desenvolvimento humano) é um índice calculado por 3 fatores principais sendo eles:expectativa de vida,anos médios de estudos e renda per capita.Tendo em vista tal índice,é possivel que a densidade populacional e o índice de percepção da corrupção de um país interfira em seu IDH?\n",
    "\n",
    "\n",
    "\n"
   ]
  },
  {
   "cell_type": "markdown",
   "metadata": {},
   "source": [
    "# Introdução\n",
    "\n",
    "O índice de desenvolvimento humano foi utilizado pela primeira vez em 1990 pelo PNUD(Programa das Nações Unidas para o Desenvolvimento) pois era necessário um indicador que analisasse variáveis sociais,econômicas e acerca da saúde pública\n",
    "e nao somente variaveis econômicas para apreciar o grau de desenvolvimentos de um país.\n",
    "    O índice de Percepção de Corrupção(IPC) criado em 1966 é utlizado para tomadas de decisões,ou seja,avaliar os riscos e com isso orientar decisões.O IPC é um fator utilizadado para a manutenção da luta contra a corrupção e é um fator levado em conta entre países que realizam transações e acordos entre si, sendo que um IPC próximo de 1 demonstra que um país nao possui uma boa transparência internacional acerca da corrupção e um IPC perto de 0 indica que o país nao possui uma boa transparência\n",
    "    A densidade populacional de um país é um índice que avalia a distribuição da população em um território,é importante visto que podemos analisar o quão junta ou espalhada uma população está em um país. \n",
    "    Tendo em vista tais indices e seus propósitos,achei interessante pesquisar e investigar se havia alguma relação proporcional entre os indices e se haveria países os quais saem da tendencia dos demais durante a análise exploratória.\n",
    "    "
   ]
  },
  {
   "cell_type": "code",
   "execution_count": 67,
   "metadata": {},
   "outputs": [],
   "source": [
    "%matplotlib inline\n",
    "import pandas as pd\n",
    "import numpy as np\n",
    "import math as math\n",
    "from scipy import stats\n",
    "import matplotlib.pyplot as plt\n",
    "import seaborn as sns\n",
    "from pandas.plotting import scatter_matrix"
   ]
  },
  {
   "cell_type": "markdown",
   "metadata": {},
   "source": [
    "# Lendo dados dos arquivos"
   ]
  },
  {
   "cell_type": "code",
   "execution_count": 68,
   "metadata": {},
   "outputs": [],
   "source": [
    "#Leitura dos arquivos\n",
    "IDH = pd.read_excel('Hdi.xlsx')\n",
    "Corrupcao = pd.read_excel('Corrupcao.xlsx')\n",
    "Population= pd.read_excel('Population.xlsx')"
   ]
  },
  {
   "cell_type": "code",
   "execution_count": 69,
   "metadata": {},
   "outputs": [],
   "source": [
    "#Manter para um unico ano\n",
    "IDh_2008 = IDH.loc[:, [\"HDI\", 2008]]\n",
    "Corrupcao_2008 = Corrupcao.loc[:, [\"Corrupcao\", 2008]]\n",
    "Population_2008 = Population.loc[:, [\"Pop\", '2008']]"
   ]
  },
  {
   "cell_type": "code",
   "execution_count": 70,
   "metadata": {},
   "outputs": [],
   "source": [
    "#Mudança de indice\n",
    "IDH_idx = IDh_2008.set_index('HDI')\n",
    "corrup_idx = Corrupcao_2008.set_index('Corrupcao')\n",
    "Population_idx = Population_2008.set_index('Pop')\n",
    "\n",
    "\n"
   ]
  },
  {
   "cell_type": "markdown",
   "metadata": {},
   "source": [
    "# Renomear colunas"
   ]
  },
  {
   "cell_type": "code",
   "execution_count": 71,
   "metadata": {
    "scrolled": true
   },
   "outputs": [
    {
     "data": {
      "text/html": [
       "<div>\n",
       "<style scoped>\n",
       "    .dataframe tbody tr th:only-of-type {\n",
       "        vertical-align: middle;\n",
       "    }\n",
       "\n",
       "    .dataframe tbody tr th {\n",
       "        vertical-align: top;\n",
       "    }\n",
       "\n",
       "    .dataframe thead th {\n",
       "        text-align: right;\n",
       "    }\n",
       "</style>\n",
       "<table border=\"1\" class=\"dataframe\">\n",
       "  <thead>\n",
       "    <tr style=\"text-align: right;\">\n",
       "      <th></th>\n",
       "      <th>2008_IDH</th>\n",
       "      <th>2008_Corrupcao</th>\n",
       "    </tr>\n",
       "  </thead>\n",
       "  <tbody>\n",
       "    <tr>\n",
       "      <th>Afghanistan</th>\n",
       "      <td>0.370</td>\n",
       "      <td>1.3</td>\n",
       "    </tr>\n",
       "    <tr>\n",
       "      <th>Albania</th>\n",
       "      <td>0.733</td>\n",
       "      <td>3.2</td>\n",
       "    </tr>\n",
       "    <tr>\n",
       "      <th>Algeria</th>\n",
       "      <td>0.686</td>\n",
       "      <td>2.8</td>\n",
       "    </tr>\n",
       "    <tr>\n",
       "      <th>Angola</th>\n",
       "      <td>0.476</td>\n",
       "      <td>1.9</td>\n",
       "    </tr>\n",
       "    <tr>\n",
       "      <th>Argentina</th>\n",
       "      <td>0.786</td>\n",
       "      <td>2.9</td>\n",
       "    </tr>\n",
       "    <tr>\n",
       "      <th>Armenia</th>\n",
       "      <td>0.719</td>\n",
       "      <td>2.7</td>\n",
       "    </tr>\n",
       "    <tr>\n",
       "      <th>Australia</th>\n",
       "      <td>0.924</td>\n",
       "      <td>8.7</td>\n",
       "    </tr>\n",
       "    <tr>\n",
       "      <th>Austria</th>\n",
       "      <td>0.876</td>\n",
       "      <td>7.9</td>\n",
       "    </tr>\n",
       "    <tr>\n",
       "      <th>Azerbaijan</th>\n",
       "      <td>NaN</td>\n",
       "      <td>2.3</td>\n",
       "    </tr>\n",
       "    <tr>\n",
       "      <th>Bahrain</th>\n",
       "      <td>0.806</td>\n",
       "      <td>5.1</td>\n",
       "    </tr>\n",
       "    <tr>\n",
       "      <th>Bangladesh</th>\n",
       "      <td>0.484</td>\n",
       "      <td>2.4</td>\n",
       "    </tr>\n",
       "    <tr>\n",
       "      <th>Barbados</th>\n",
       "      <td>0.792</td>\n",
       "      <td>7.4</td>\n",
       "    </tr>\n",
       "    <tr>\n",
       "      <th>Belarus</th>\n",
       "      <td>0.744</td>\n",
       "      <td>2.4</td>\n",
       "    </tr>\n",
       "    <tr>\n",
       "      <th>Belgium</th>\n",
       "      <td>0.882</td>\n",
       "      <td>7.1</td>\n",
       "    </tr>\n",
       "    <tr>\n",
       "      <th>Benin</th>\n",
       "      <td>0.419</td>\n",
       "      <td>2.9</td>\n",
       "    </tr>\n",
       "    <tr>\n",
       "      <th>Bhutan</th>\n",
       "      <td>NaN</td>\n",
       "      <td>5.0</td>\n",
       "    </tr>\n",
       "    <tr>\n",
       "      <th>Bolivia</th>\n",
       "      <td>0.651</td>\n",
       "      <td>2.7</td>\n",
       "    </tr>\n",
       "    <tr>\n",
       "      <th>Bosnia and Herzegovina</th>\n",
       "      <td>0.730</td>\n",
       "      <td>3.0</td>\n",
       "    </tr>\n",
       "    <tr>\n",
       "      <th>Botswana</th>\n",
       "      <td>0.624</td>\n",
       "      <td>5.6</td>\n",
       "    </tr>\n",
       "    <tr>\n",
       "      <th>Brazil</th>\n",
       "      <td>0.705</td>\n",
       "      <td>3.7</td>\n",
       "    </tr>\n",
       "    <tr>\n",
       "      <th>Brunei</th>\n",
       "      <td>0.834</td>\n",
       "      <td>5.5</td>\n",
       "    </tr>\n",
       "    <tr>\n",
       "      <th>Bulgaria</th>\n",
       "      <td>0.765</td>\n",
       "      <td>3.8</td>\n",
       "    </tr>\n",
       "    <tr>\n",
       "      <th>Burkina Faso</th>\n",
       "      <td>0.321</td>\n",
       "      <td>3.6</td>\n",
       "    </tr>\n",
       "    <tr>\n",
       "      <th>Burundi</th>\n",
       "      <td>0.301</td>\n",
       "      <td>1.8</td>\n",
       "    </tr>\n",
       "    <tr>\n",
       "      <th>Cambodia</th>\n",
       "      <td>0.513</td>\n",
       "      <td>2.0</td>\n",
       "    </tr>\n",
       "    <tr>\n",
       "      <th>Cameroon</th>\n",
       "      <td>0.466</td>\n",
       "      <td>2.2</td>\n",
       "    </tr>\n",
       "    <tr>\n",
       "      <th>Canada</th>\n",
       "      <td>0.903</td>\n",
       "      <td>8.7</td>\n",
       "    </tr>\n",
       "    <tr>\n",
       "      <th>Cape Verde</th>\n",
       "      <td>0.563</td>\n",
       "      <td>5.1</td>\n",
       "    </tr>\n",
       "    <tr>\n",
       "      <th>Central African Republic</th>\n",
       "      <td>0.327</td>\n",
       "      <td>2.0</td>\n",
       "    </tr>\n",
       "    <tr>\n",
       "      <th>Chad</th>\n",
       "      <td>0.316</td>\n",
       "      <td>1.6</td>\n",
       "    </tr>\n",
       "    <tr>\n",
       "      <th>...</th>\n",
       "      <td>...</td>\n",
       "      <td>...</td>\n",
       "    </tr>\n",
       "    <tr>\n",
       "      <th>Sudan</th>\n",
       "      <td>0.399</td>\n",
       "      <td>1.5</td>\n",
       "    </tr>\n",
       "    <tr>\n",
       "      <th>Suriname</th>\n",
       "      <td>0.672</td>\n",
       "      <td>3.7</td>\n",
       "    </tr>\n",
       "    <tr>\n",
       "      <th>Swaziland</th>\n",
       "      <td>0.512</td>\n",
       "      <td>3.6</td>\n",
       "    </tr>\n",
       "    <tr>\n",
       "      <th>Sweden</th>\n",
       "      <td>0.900</td>\n",
       "      <td>9.2</td>\n",
       "    </tr>\n",
       "    <tr>\n",
       "      <th>Switzerland</th>\n",
       "      <td>0.892</td>\n",
       "      <td>9.0</td>\n",
       "    </tr>\n",
       "    <tr>\n",
       "      <th>Syria</th>\n",
       "      <td>0.629</td>\n",
       "      <td>2.6</td>\n",
       "    </tr>\n",
       "    <tr>\n",
       "      <th>Taiwan</th>\n",
       "      <td>NaN</td>\n",
       "      <td>5.6</td>\n",
       "    </tr>\n",
       "    <tr>\n",
       "      <th>Tajikistan</th>\n",
       "      <td>0.597</td>\n",
       "      <td>2.0</td>\n",
       "    </tr>\n",
       "    <tr>\n",
       "      <th>Tanzania</th>\n",
       "      <td>0.448</td>\n",
       "      <td>2.6</td>\n",
       "    </tr>\n",
       "    <tr>\n",
       "      <th>Thailand</th>\n",
       "      <td>0.672</td>\n",
       "      <td>3.4</td>\n",
       "    </tr>\n",
       "    <tr>\n",
       "      <th>Timor-Leste</th>\n",
       "      <td>0.505</td>\n",
       "      <td>2.2</td>\n",
       "    </tr>\n",
       "    <tr>\n",
       "      <th>Togo</th>\n",
       "      <td>0.426</td>\n",
       "      <td>2.8</td>\n",
       "    </tr>\n",
       "    <tr>\n",
       "      <th>Tonga</th>\n",
       "      <td>0.700</td>\n",
       "      <td>3.0</td>\n",
       "    </tr>\n",
       "    <tr>\n",
       "      <th>Trinidad and Tobago</th>\n",
       "      <td>0.751</td>\n",
       "      <td>3.6</td>\n",
       "    </tr>\n",
       "    <tr>\n",
       "      <th>Tunisia</th>\n",
       "      <td>0.688</td>\n",
       "      <td>4.2</td>\n",
       "    </tr>\n",
       "    <tr>\n",
       "      <th>Turkey</th>\n",
       "      <td>0.691</td>\n",
       "      <td>4.4</td>\n",
       "    </tr>\n",
       "    <tr>\n",
       "      <th>Turkmenistan</th>\n",
       "      <td>0.671</td>\n",
       "      <td>1.8</td>\n",
       "    </tr>\n",
       "    <tr>\n",
       "      <th>Uganda</th>\n",
       "      <td>0.430</td>\n",
       "      <td>2.5</td>\n",
       "    </tr>\n",
       "    <tr>\n",
       "      <th>Ukraine</th>\n",
       "      <td>0.729</td>\n",
       "      <td>2.2</td>\n",
       "    </tr>\n",
       "    <tr>\n",
       "      <th>United Arab Emirates</th>\n",
       "      <td>0.835</td>\n",
       "      <td>6.5</td>\n",
       "    </tr>\n",
       "    <tr>\n",
       "      <th>United Kingdom</th>\n",
       "      <td>0.860</td>\n",
       "      <td>7.7</td>\n",
       "    </tr>\n",
       "    <tr>\n",
       "      <th>United States</th>\n",
       "      <td>0.907</td>\n",
       "      <td>7.5</td>\n",
       "    </tr>\n",
       "    <tr>\n",
       "      <th>Uruguay</th>\n",
       "      <td>0.769</td>\n",
       "      <td>6.7</td>\n",
       "    </tr>\n",
       "    <tr>\n",
       "      <th>Uzbekistan</th>\n",
       "      <td>0.624</td>\n",
       "      <td>1.7</td>\n",
       "    </tr>\n",
       "    <tr>\n",
       "      <th>Vanuatu</th>\n",
       "      <td>NaN</td>\n",
       "      <td>3.2</td>\n",
       "    </tr>\n",
       "    <tr>\n",
       "      <th>Venezuela</th>\n",
       "      <td>0.730</td>\n",
       "      <td>1.9</td>\n",
       "    </tr>\n",
       "    <tr>\n",
       "      <th>Vietnam</th>\n",
       "      <td>0.580</td>\n",
       "      <td>2.7</td>\n",
       "    </tr>\n",
       "    <tr>\n",
       "      <th>Yemen</th>\n",
       "      <td>0.444</td>\n",
       "      <td>2.1</td>\n",
       "    </tr>\n",
       "    <tr>\n",
       "      <th>Zambia</th>\n",
       "      <td>0.413</td>\n",
       "      <td>3.0</td>\n",
       "    </tr>\n",
       "    <tr>\n",
       "      <th>Zimbabwe</th>\n",
       "      <td>0.338</td>\n",
       "      <td>2.2</td>\n",
       "    </tr>\n",
       "  </tbody>\n",
       "</table>\n",
       "<p>173 rows × 2 columns</p>\n",
       "</div>"
      ],
      "text/plain": [
       "                          2008_IDH  2008_Corrupcao\n",
       "Afghanistan                  0.370             1.3\n",
       "Albania                      0.733             3.2\n",
       "Algeria                      0.686             2.8\n",
       "Angola                       0.476             1.9\n",
       "Argentina                    0.786             2.9\n",
       "Armenia                      0.719             2.7\n",
       "Australia                    0.924             8.7\n",
       "Austria                      0.876             7.9\n",
       "Azerbaijan                     NaN             2.3\n",
       "Bahrain                      0.806             5.1\n",
       "Bangladesh                   0.484             2.4\n",
       "Barbados                     0.792             7.4\n",
       "Belarus                      0.744             2.4\n",
       "Belgium                      0.882             7.1\n",
       "Benin                        0.419             2.9\n",
       "Bhutan                         NaN             5.0\n",
       "Bolivia                      0.651             2.7\n",
       "Bosnia and Herzegovina       0.730             3.0\n",
       "Botswana                     0.624             5.6\n",
       "Brazil                       0.705             3.7\n",
       "Brunei                       0.834             5.5\n",
       "Bulgaria                     0.765             3.8\n",
       "Burkina Faso                 0.321             3.6\n",
       "Burundi                      0.301             1.8\n",
       "Cambodia                     0.513             2.0\n",
       "Cameroon                     0.466             2.2\n",
       "Canada                       0.903             8.7\n",
       "Cape Verde                   0.563             5.1\n",
       "Central African Republic     0.327             2.0\n",
       "Chad                         0.316             1.6\n",
       "...                            ...             ...\n",
       "Sudan                        0.399             1.5\n",
       "Suriname                     0.672             3.7\n",
       "Swaziland                    0.512             3.6\n",
       "Sweden                       0.900             9.2\n",
       "Switzerland                  0.892             9.0\n",
       "Syria                        0.629             2.6\n",
       "Taiwan                         NaN             5.6\n",
       "Tajikistan                   0.597             2.0\n",
       "Tanzania                     0.448             2.6\n",
       "Thailand                     0.672             3.4\n",
       "Timor-Leste                  0.505             2.2\n",
       "Togo                         0.426             2.8\n",
       "Tonga                        0.700             3.0\n",
       "Trinidad and Tobago          0.751             3.6\n",
       "Tunisia                      0.688             4.2\n",
       "Turkey                       0.691             4.4\n",
       "Turkmenistan                 0.671             1.8\n",
       "Uganda                       0.430             2.5\n",
       "Ukraine                      0.729             2.2\n",
       "United Arab Emirates         0.835             6.5\n",
       "United Kingdom               0.860             7.7\n",
       "United States                0.907             7.5\n",
       "Uruguay                      0.769             6.7\n",
       "Uzbekistan                   0.624             1.7\n",
       "Vanuatu                        NaN             3.2\n",
       "Venezuela                    0.730             1.9\n",
       "Vietnam                      0.580             2.7\n",
       "Yemen                        0.444             2.1\n",
       "Zambia                       0.413             3.0\n",
       "Zimbabwe                     0.338             2.2\n",
       "\n",
       "[173 rows x 2 columns]"
      ]
     },
     "execution_count": 71,
     "metadata": {},
     "output_type": "execute_result"
    }
   ],
   "source": [
    "#Renomear colunas\n",
    "pt = IDH_idx.join(corrup_idx, how='inner', lsuffix='_IDH', rsuffix='_Corrupcao')\n",
    "pt.head(173)"
   ]
  },
  {
   "cell_type": "code",
   "execution_count": 72,
   "metadata": {},
   "outputs": [],
   "source": [
    "#Adicionando a terceira coluna\n",
    "\n",
    "Junto = pt.join(Population_idx, how=\"inner\",)"
   ]
  },
  {
   "cell_type": "code",
   "execution_count": 73,
   "metadata": {},
   "outputs": [
    {
     "data": {
      "text/plain": [
       "(173, 3)"
      ]
     },
     "execution_count": 73,
     "metadata": {},
     "output_type": "execute_result"
    }
   ],
   "source": [
    "##Shape do frame\n",
    "Junto.shape\n"
   ]
  },
  {
   "cell_type": "markdown",
   "metadata": {},
   "source": [
    "# Tudo em um único Dataframe"
   ]
  },
  {
   "cell_type": "code",
   "execution_count": 74,
   "metadata": {},
   "outputs": [
    {
     "data": {
      "text/html": [
       "<div>\n",
       "<style scoped>\n",
       "    .dataframe tbody tr th:only-of-type {\n",
       "        vertical-align: middle;\n",
       "    }\n",
       "\n",
       "    .dataframe tbody tr th {\n",
       "        vertical-align: top;\n",
       "    }\n",
       "\n",
       "    .dataframe thead th {\n",
       "        text-align: right;\n",
       "    }\n",
       "</style>\n",
       "<table border=\"1\" class=\"dataframe\">\n",
       "  <thead>\n",
       "    <tr style=\"text-align: right;\">\n",
       "      <th></th>\n",
       "      <th>2008_IDH</th>\n",
       "      <th>2008_IPC</th>\n",
       "      <th>2008_Densidade Populacional</th>\n",
       "    </tr>\n",
       "  </thead>\n",
       "  <tbody>\n",
       "    <tr>\n",
       "      <th>Afghanistan</th>\n",
       "      <td>0.370</td>\n",
       "      <td>1.3</td>\n",
       "      <td>45.761</td>\n",
       "    </tr>\n",
       "    <tr>\n",
       "      <th>Albania</th>\n",
       "      <td>0.733</td>\n",
       "      <td>3.2</td>\n",
       "      <td>110.665</td>\n",
       "    </tr>\n",
       "    <tr>\n",
       "      <th>Algeria</th>\n",
       "      <td>0.686</td>\n",
       "      <td>2.8</td>\n",
       "      <td>14.455</td>\n",
       "    </tr>\n",
       "    <tr>\n",
       "      <th>Angola</th>\n",
       "      <td>0.476</td>\n",
       "      <td>1.9</td>\n",
       "      <td>14.469</td>\n",
       "    </tr>\n",
       "    <tr>\n",
       "      <th>Argentina</th>\n",
       "      <td>0.786</td>\n",
       "      <td>2.9</td>\n",
       "      <td>14.284</td>\n",
       "    </tr>\n",
       "    <tr>\n",
       "      <th>Armenia</th>\n",
       "      <td>0.719</td>\n",
       "      <td>2.7</td>\n",
       "      <td>103.325</td>\n",
       "    </tr>\n",
       "    <tr>\n",
       "      <th>Australia</th>\n",
       "      <td>0.924</td>\n",
       "      <td>8.7</td>\n",
       "      <td>2.779</td>\n",
       "    </tr>\n",
       "    <tr>\n",
       "      <th>Austria</th>\n",
       "      <td>0.876</td>\n",
       "      <td>7.9</td>\n",
       "      <td>99.475</td>\n",
       "    </tr>\n",
       "    <tr>\n",
       "      <th>Bahrain</th>\n",
       "      <td>0.806</td>\n",
       "      <td>5.1</td>\n",
       "      <td>1516.367</td>\n",
       "    </tr>\n",
       "    <tr>\n",
       "      <th>Bangladesh</th>\n",
       "      <td>0.484</td>\n",
       "      <td>2.4</td>\n",
       "      <td>1010.280</td>\n",
       "    </tr>\n",
       "    <tr>\n",
       "      <th>Barbados</th>\n",
       "      <td>0.792</td>\n",
       "      <td>7.4</td>\n",
       "      <td>632.977</td>\n",
       "    </tr>\n",
       "    <tr>\n",
       "      <th>Belarus</th>\n",
       "      <td>0.744</td>\n",
       "      <td>2.4</td>\n",
       "      <td>46.631</td>\n",
       "    </tr>\n",
       "    <tr>\n",
       "      <th>Belgium</th>\n",
       "      <td>0.882</td>\n",
       "      <td>7.1</td>\n",
       "      <td>347.293</td>\n",
       "    </tr>\n",
       "    <tr>\n",
       "      <th>Benin</th>\n",
       "      <td>0.419</td>\n",
       "      <td>2.9</td>\n",
       "      <td>74.195</td>\n",
       "    </tr>\n",
       "    <tr>\n",
       "      <th>Bolivia</th>\n",
       "      <td>0.651</td>\n",
       "      <td>2.7</td>\n",
       "      <td>8.755</td>\n",
       "    </tr>\n",
       "    <tr>\n",
       "      <th>Bosnia and Herzegovina</th>\n",
       "      <td>0.730</td>\n",
       "      <td>3.0</td>\n",
       "      <td>73.718</td>\n",
       "    </tr>\n",
       "    <tr>\n",
       "      <th>Botswana</th>\n",
       "      <td>0.624</td>\n",
       "      <td>5.6</td>\n",
       "      <td>3.360</td>\n",
       "    </tr>\n",
       "    <tr>\n",
       "      <th>Brazil</th>\n",
       "      <td>0.705</td>\n",
       "      <td>3.7</td>\n",
       "      <td>22.497</td>\n",
       "    </tr>\n",
       "    <tr>\n",
       "      <th>Brunei</th>\n",
       "      <td>0.834</td>\n",
       "      <td>5.5</td>\n",
       "      <td>66.729</td>\n",
       "    </tr>\n",
       "    <tr>\n",
       "      <th>Bulgaria</th>\n",
       "      <td>0.765</td>\n",
       "      <td>3.8</td>\n",
       "      <td>68.445</td>\n",
       "    </tr>\n",
       "    <tr>\n",
       "      <th>Burkina Faso</th>\n",
       "      <td>0.321</td>\n",
       "      <td>3.6</td>\n",
       "      <td>56.625</td>\n",
       "    </tr>\n",
       "    <tr>\n",
       "      <th>Burundi</th>\n",
       "      <td>0.301</td>\n",
       "      <td>1.8</td>\n",
       "      <td>285.384</td>\n",
       "    </tr>\n",
       "    <tr>\n",
       "      <th>Cambodia</th>\n",
       "      <td>0.513</td>\n",
       "      <td>2.0</td>\n",
       "      <td>76.353</td>\n",
       "    </tr>\n",
       "    <tr>\n",
       "      <th>Cameroon</th>\n",
       "      <td>0.466</td>\n",
       "      <td>2.2</td>\n",
       "      <td>39.455</td>\n",
       "    </tr>\n",
       "    <tr>\n",
       "      <th>Canada</th>\n",
       "      <td>0.903</td>\n",
       "      <td>8.7</td>\n",
       "      <td>3.343</td>\n",
       "    </tr>\n",
       "    <tr>\n",
       "      <th>Cape Verde</th>\n",
       "      <td>0.563</td>\n",
       "      <td>5.1</td>\n",
       "      <td>120.846</td>\n",
       "    </tr>\n",
       "    <tr>\n",
       "      <th>Central African Republic</th>\n",
       "      <td>0.327</td>\n",
       "      <td>2.0</td>\n",
       "      <td>6.803</td>\n",
       "    </tr>\n",
       "    <tr>\n",
       "      <th>Chad</th>\n",
       "      <td>0.316</td>\n",
       "      <td>1.6</td>\n",
       "      <td>8.297</td>\n",
       "    </tr>\n",
       "    <tr>\n",
       "      <th>Chile</th>\n",
       "      <td>0.796</td>\n",
       "      <td>6.7</td>\n",
       "      <td>22.198</td>\n",
       "    </tr>\n",
       "    <tr>\n",
       "      <th>China</th>\n",
       "      <td>0.665</td>\n",
       "      <td>3.6</td>\n",
       "      <td>138.406</td>\n",
       "    </tr>\n",
       "    <tr>\n",
       "      <th>...</th>\n",
       "      <td>...</td>\n",
       "      <td>...</td>\n",
       "      <td>...</td>\n",
       "    </tr>\n",
       "    <tr>\n",
       "      <th>Spain</th>\n",
       "      <td>0.871</td>\n",
       "      <td>6.1</td>\n",
       "      <td>89.223</td>\n",
       "    </tr>\n",
       "    <tr>\n",
       "      <th>Sri Lanka</th>\n",
       "      <td>0.676</td>\n",
       "      <td>3.1</td>\n",
       "      <td>312.053</td>\n",
       "    </tr>\n",
       "    <tr>\n",
       "      <th>Sudan</th>\n",
       "      <td>0.399</td>\n",
       "      <td>1.5</td>\n",
       "      <td>16.528</td>\n",
       "    </tr>\n",
       "    <tr>\n",
       "      <th>Suriname</th>\n",
       "      <td>0.672</td>\n",
       "      <td>3.7</td>\n",
       "      <td>3.144</td>\n",
       "    </tr>\n",
       "    <tr>\n",
       "      <th>Swaziland</th>\n",
       "      <td>0.512</td>\n",
       "      <td>3.6</td>\n",
       "      <td>66.249</td>\n",
       "    </tr>\n",
       "    <tr>\n",
       "      <th>Sweden</th>\n",
       "      <td>0.900</td>\n",
       "      <td>9.2</td>\n",
       "      <td>20.528</td>\n",
       "    </tr>\n",
       "    <tr>\n",
       "      <th>Switzerland</th>\n",
       "      <td>0.892</td>\n",
       "      <td>9.0</td>\n",
       "      <td>183.442</td>\n",
       "    </tr>\n",
       "    <tr>\n",
       "      <th>Syria</th>\n",
       "      <td>0.629</td>\n",
       "      <td>2.6</td>\n",
       "      <td>106.352</td>\n",
       "    </tr>\n",
       "    <tr>\n",
       "      <th>Tajikistan</th>\n",
       "      <td>0.597</td>\n",
       "      <td>2.0</td>\n",
       "      <td>46.760</td>\n",
       "    </tr>\n",
       "    <tr>\n",
       "      <th>Tanzania</th>\n",
       "      <td>0.448</td>\n",
       "      <td>2.6</td>\n",
       "      <td>44.724</td>\n",
       "    </tr>\n",
       "    <tr>\n",
       "      <th>Thailand</th>\n",
       "      <td>0.672</td>\n",
       "      <td>3.4</td>\n",
       "      <td>133.046</td>\n",
       "    </tr>\n",
       "    <tr>\n",
       "      <th>Timor-Leste</th>\n",
       "      <td>0.505</td>\n",
       "      <td>2.2</td>\n",
       "      <td>72.593</td>\n",
       "    </tr>\n",
       "    <tr>\n",
       "      <th>Togo</th>\n",
       "      <td>0.426</td>\n",
       "      <td>2.8</td>\n",
       "      <td>101.732</td>\n",
       "    </tr>\n",
       "    <tr>\n",
       "      <th>Tonga</th>\n",
       "      <td>0.700</td>\n",
       "      <td>3.0</td>\n",
       "      <td>158.323</td>\n",
       "    </tr>\n",
       "    <tr>\n",
       "      <th>Trinidad and Tobago</th>\n",
       "      <td>0.751</td>\n",
       "      <td>3.6</td>\n",
       "      <td>259.462</td>\n",
       "    </tr>\n",
       "    <tr>\n",
       "      <th>Tunisia</th>\n",
       "      <td>0.688</td>\n",
       "      <td>4.2</td>\n",
       "      <td>62.633</td>\n",
       "    </tr>\n",
       "    <tr>\n",
       "      <th>Turkey</th>\n",
       "      <td>0.691</td>\n",
       "      <td>4.4</td>\n",
       "      <td>90.515</td>\n",
       "    </tr>\n",
       "    <tr>\n",
       "      <th>Turkmenistan</th>\n",
       "      <td>0.671</td>\n",
       "      <td>1.8</td>\n",
       "      <td>10.077</td>\n",
       "    </tr>\n",
       "    <tr>\n",
       "      <th>Uganda</th>\n",
       "      <td>0.430</td>\n",
       "      <td>2.5</td>\n",
       "      <td>130.018</td>\n",
       "    </tr>\n",
       "    <tr>\n",
       "      <th>Ukraine</th>\n",
       "      <td>0.729</td>\n",
       "      <td>2.2</td>\n",
       "      <td>76.183</td>\n",
       "    </tr>\n",
       "    <tr>\n",
       "      <th>United Arab Emirates</th>\n",
       "      <td>0.835</td>\n",
       "      <td>6.5</td>\n",
       "      <td>74.242</td>\n",
       "    </tr>\n",
       "    <tr>\n",
       "      <th>United Kingdom</th>\n",
       "      <td>0.860</td>\n",
       "      <td>7.7</td>\n",
       "      <td>252.245</td>\n",
       "    </tr>\n",
       "    <tr>\n",
       "      <th>United States</th>\n",
       "      <td>0.907</td>\n",
       "      <td>7.5</td>\n",
       "      <td>31.674</td>\n",
       "    </tr>\n",
       "    <tr>\n",
       "      <th>Uruguay</th>\n",
       "      <td>0.769</td>\n",
       "      <td>6.7</td>\n",
       "      <td>19.118</td>\n",
       "    </tr>\n",
       "    <tr>\n",
       "      <th>Uzbekistan</th>\n",
       "      <td>0.624</td>\n",
       "      <td>1.7</td>\n",
       "      <td>59.928</td>\n",
       "    </tr>\n",
       "    <tr>\n",
       "      <th>Venezuela</th>\n",
       "      <td>0.730</td>\n",
       "      <td>1.9</td>\n",
       "      <td>30.763</td>\n",
       "    </tr>\n",
       "    <tr>\n",
       "      <th>Vietnam</th>\n",
       "      <td>0.580</td>\n",
       "      <td>2.7</td>\n",
       "      <td>259.134</td>\n",
       "    </tr>\n",
       "    <tr>\n",
       "      <th>Yemen</th>\n",
       "      <td>0.444</td>\n",
       "      <td>2.1</td>\n",
       "      <td>42.856</td>\n",
       "    </tr>\n",
       "    <tr>\n",
       "      <th>Zambia</th>\n",
       "      <td>0.413</td>\n",
       "      <td>3.0</td>\n",
       "      <td>16.449</td>\n",
       "    </tr>\n",
       "    <tr>\n",
       "      <th>Zimbabwe</th>\n",
       "      <td>0.338</td>\n",
       "      <td>2.2</td>\n",
       "      <td>31.865</td>\n",
       "    </tr>\n",
       "  </tbody>\n",
       "</table>\n",
       "<p>165 rows × 3 columns</p>\n",
       "</div>"
      ],
      "text/plain": [
       "                          2008_IDH  2008_IPC  2008_Densidade Populacional\n",
       "Afghanistan                  0.370       1.3                       45.761\n",
       "Albania                      0.733       3.2                      110.665\n",
       "Algeria                      0.686       2.8                       14.455\n",
       "Angola                       0.476       1.9                       14.469\n",
       "Argentina                    0.786       2.9                       14.284\n",
       "Armenia                      0.719       2.7                      103.325\n",
       "Australia                    0.924       8.7                        2.779\n",
       "Austria                      0.876       7.9                       99.475\n",
       "Bahrain                      0.806       5.1                     1516.367\n",
       "Bangladesh                   0.484       2.4                     1010.280\n",
       "Barbados                     0.792       7.4                      632.977\n",
       "Belarus                      0.744       2.4                       46.631\n",
       "Belgium                      0.882       7.1                      347.293\n",
       "Benin                        0.419       2.9                       74.195\n",
       "Bolivia                      0.651       2.7                        8.755\n",
       "Bosnia and Herzegovina       0.730       3.0                       73.718\n",
       "Botswana                     0.624       5.6                        3.360\n",
       "Brazil                       0.705       3.7                       22.497\n",
       "Brunei                       0.834       5.5                       66.729\n",
       "Bulgaria                     0.765       3.8                       68.445\n",
       "Burkina Faso                 0.321       3.6                       56.625\n",
       "Burundi                      0.301       1.8                      285.384\n",
       "Cambodia                     0.513       2.0                       76.353\n",
       "Cameroon                     0.466       2.2                       39.455\n",
       "Canada                       0.903       8.7                        3.343\n",
       "Cape Verde                   0.563       5.1                      120.846\n",
       "Central African Republic     0.327       2.0                        6.803\n",
       "Chad                         0.316       1.6                        8.297\n",
       "Chile                        0.796       6.7                       22.198\n",
       "China                        0.665       3.6                      138.406\n",
       "...                            ...       ...                          ...\n",
       "Spain                        0.871       6.1                       89.223\n",
       "Sri Lanka                    0.676       3.1                      312.053\n",
       "Sudan                        0.399       1.5                       16.528\n",
       "Suriname                     0.672       3.7                        3.144\n",
       "Swaziland                    0.512       3.6                       66.249\n",
       "Sweden                       0.900       9.2                       20.528\n",
       "Switzerland                  0.892       9.0                      183.442\n",
       "Syria                        0.629       2.6                      106.352\n",
       "Tajikistan                   0.597       2.0                       46.760\n",
       "Tanzania                     0.448       2.6                       44.724\n",
       "Thailand                     0.672       3.4                      133.046\n",
       "Timor-Leste                  0.505       2.2                       72.593\n",
       "Togo                         0.426       2.8                      101.732\n",
       "Tonga                        0.700       3.0                      158.323\n",
       "Trinidad and Tobago          0.751       3.6                      259.462\n",
       "Tunisia                      0.688       4.2                       62.633\n",
       "Turkey                       0.691       4.4                       90.515\n",
       "Turkmenistan                 0.671       1.8                       10.077\n",
       "Uganda                       0.430       2.5                      130.018\n",
       "Ukraine                      0.729       2.2                       76.183\n",
       "United Arab Emirates         0.835       6.5                       74.242\n",
       "United Kingdom               0.860       7.7                      252.245\n",
       "United States                0.907       7.5                       31.674\n",
       "Uruguay                      0.769       6.7                       19.118\n",
       "Uzbekistan                   0.624       1.7                       59.928\n",
       "Venezuela                    0.730       1.9                       30.763\n",
       "Vietnam                      0.580       2.7                      259.134\n",
       "Yemen                        0.444       2.1                       42.856\n",
       "Zambia                       0.413       3.0                       16.449\n",
       "Zimbabwe                     0.338       2.2                       31.865\n",
       "\n",
       "[165 rows x 3 columns]"
      ]
     },
     "execution_count": 74,
     "metadata": {},
     "output_type": "execute_result"
    }
   ],
   "source": [
    "#Junto.loc[['Afghanistan','Albania','Argentina','Armenia','Belarus','Bolivia','Bosnia and Herzegovina','Brazil','Bulgaria','Cambodia','Cameroon','Central African Republic','Chile','Colombia','Costa Rica','Croatia','Ecuador','Egypt','Hungary','Iraq','Malaysia','Mexico','Montenegro','Paraguay','Peru','Qatar','Romania','Russia','Serbia','Sri Lanka','Tajikistan','Tanzania','Thailand','Timor-Leste','Turkey','Ukraine','United States','Uruguay','New Zealand']].sort_values('2008_IDH')\n",
    "Junto.dropna(axis=0,how='any',thresh=None,subset=None,inplace=True)\n",
    "Junto.sort_values('2008_IDH').head(68)\n",
    "Junto.columns=['2008_IDH','2008_IPC','2008_Densidade Populacional']\n",
    "Junto\n",
    "\n"
   ]
  },
  {
   "cell_type": "markdown",
   "metadata": {},
   "source": [
    "# Análise IDH"
   ]
  },
  {
   "cell_type": "code",
   "execution_count": 75,
   "metadata": {
    "scrolled": true
   },
   "outputs": [
    {
     "name": "stdout",
     "output_type": "stream",
     "text": [
      "count    165.000000\n",
      "mean       0.649594\n",
      "std        0.179619\n",
      "min        0.270000\n",
      "25%        0.495000\n",
      "50%        0.688000\n",
      "75%        0.792000\n",
      "max        0.941000\n",
      "Name: 2008_IDH, dtype: float64\n"
     ]
    },
    {
     "data": {
      "text/plain": [
       "<matplotlib.axes._subplots.AxesSubplot at 0x25e40771a20>"
      ]
     },
     "execution_count": 75,
     "metadata": {},
     "output_type": "execute_result"
    },
    {
     "data": {
      "image/png": "[encoded data removed]",
      "text/plain": [
       "<matplotlib.figure.Figure at 0x25e4079c0f0>"
      ]
     },
     "metadata": {},
     "output_type": "display_data"
    }
   ],
   "source": [
    "print(Junto['2008_IDH'].describe())\n",
    "Junto.boxplot('2008_IDH')"
   ]
  },
  {
   "cell_type": "markdown",
   "metadata": {},
   "source": [
    "Ao analisar o IDH pode se perceber que a média esta acima da metade do índice(0.5) porém existem muitos países abaixo da mediana(0.688) oque demonstra que existem muitos países abaixo da mediana portanto a simetria dos dados tende para a esquerda."
   ]
  },
  {
   "cell_type": "markdown",
   "metadata": {},
   "source": [
    "# Análise IPC"
   ]
  },
  {
   "cell_type": "code",
   "execution_count": 76,
   "metadata": {},
   "outputs": [
    {
     "name": "stdout",
     "output_type": "stream",
     "text": [
      "count    165.000000\n",
      "mean       4.027879\n",
      "std        2.120705\n",
      "min        1.300000\n",
      "25%        2.500000\n",
      "50%        3.300000\n",
      "75%        5.100000\n",
      "max        9.400000\n",
      "Name: 2008_IPC, dtype: float64\n"
     ]
    },
    {
     "data": {
      "text/plain": [
       "<matplotlib.axes._subplots.AxesSubplot at 0x25e40838f98>"
      ]
     },
     "execution_count": 76,
     "metadata": {},
     "output_type": "execute_result"
    },
    {
     "data": {
      "image/png": "[encoded data removed]",
      "text/plain": [
       "<matplotlib.figure.Figure at 0x25e40781be0>"
      ]
     },
     "metadata": {},
     "output_type": "display_data"
    }
   ],
   "source": [
    "print(Junto['2008_IPC'].describe())\n",
    "Junto.boxplot('2008_IPC')"
   ]
  },
  {
   "cell_type": "markdown",
   "metadata": {},
   "source": [
    "Com a análise dos dados do IPC,pode se aferir que há mais países acima da mediana e muitos outliers,oque se entende pelos gráficos é que existem muitos países considerados corruptos sendo que metade deles posssui um IPC de 3.3 oque é considerado baixo pelo indice e tais paises nao sao considerados transparentes acerca da corrupção,podemos ver tambem que ha muitos outliers oque indica que há países considerados muito transparentes quando comparados com o espaço amostral analisado.\n",
    "\n",
    "\n",
    "\n",
    "\n"
   ]
  },
  {
   "cell_type": "markdown",
   "metadata": {},
   "source": [
    "# Análise Densidade Populacional"
   ]
  },
  {
   "cell_type": "code",
   "execution_count": 77,
   "metadata": {},
   "outputs": [
    {
     "name": "stdout",
     "output_type": "stream",
     "text": [
      "count     165.000000\n",
      "mean      207.767133\n",
      "std       745.490378\n",
      "min         1.703000\n",
      "25%        29.759000\n",
      "50%        70.084000\n",
      "75%       130.018000\n",
      "max      6987.139000\n",
      "Name: 2008_Densidade Populacional, dtype: float64\n"
     ]
    },
    {
     "data": {
      "text/plain": [
       "<matplotlib.axes._subplots.AxesSubplot at 0x25e408d3400>"
      ]
     },
     "execution_count": 77,
     "metadata": {},
     "output_type": "execute_result"
    },
    {
     "data": {
      "image/png": "[encoded data removed]",
      "text/plain": [
       "<matplotlib.figure.Figure at 0x25e408ceef0>"
      ]
     },
     "metadata": {},
     "output_type": "display_data"
    }
   ],
   "source": [
    "print(Junto['2008_Densidade Populacional'].describe())\n",
    "Junto.boxplot('2008_Densidade Populacional')"
   ]
  },
  {
   "cell_type": "markdown",
   "metadata": {},
   "source": [
    "A partir da analise da densidade populacional dos paises nao conseguimos tirar conclusoes concretas somente com tal indice visto que há um dispersão muito grande dos dados sendo que a simetria tende para a direita."
   ]
  },
  {
   "cell_type": "markdown",
   "metadata": {},
   "source": [
    "# Média,desvio padão,mínimo,quartis e máximo do Dataframe\n"
   ]
  },
  {
   "cell_type": "code",
   "execution_count": 78,
   "metadata": {
    "scrolled": false
   },
   "outputs": [
    {
     "data": {
      "text/html": [
       "<div>\n",
       "<style scoped>\n",
       "    .dataframe tbody tr th:only-of-type {\n",
       "        vertical-align: middle;\n",
       "    }\n",
       "\n",
       "    .dataframe tbody tr th {\n",
       "        vertical-align: top;\n",
       "    }\n",
       "\n",
       "    .dataframe thead th {\n",
       "        text-align: right;\n",
       "    }\n",
       "</style>\n",
       "<table border=\"1\" class=\"dataframe\">\n",
       "  <thead>\n",
       "    <tr style=\"text-align: right;\">\n",
       "      <th></th>\n",
       "      <th>2008_IDH</th>\n",
       "      <th>2008_IPC</th>\n",
       "      <th>2008_Densidade Populacional</th>\n",
       "    </tr>\n",
       "  </thead>\n",
       "  <tbody>\n",
       "    <tr>\n",
       "      <th>count</th>\n",
       "      <td>165.000000</td>\n",
       "      <td>165.000000</td>\n",
       "      <td>165.000000</td>\n",
       "    </tr>\n",
       "    <tr>\n",
       "      <th>mean</th>\n",
       "      <td>0.649594</td>\n",
       "      <td>4.027879</td>\n",
       "      <td>207.767133</td>\n",
       "    </tr>\n",
       "    <tr>\n",
       "      <th>std</th>\n",
       "      <td>0.179619</td>\n",
       "      <td>2.120705</td>\n",
       "      <td>745.490378</td>\n",
       "    </tr>\n",
       "    <tr>\n",
       "      <th>min</th>\n",
       "      <td>0.270000</td>\n",
       "      <td>1.300000</td>\n",
       "      <td>1.703000</td>\n",
       "    </tr>\n",
       "    <tr>\n",
       "      <th>25%</th>\n",
       "      <td>0.495000</td>\n",
       "      <td>2.500000</td>\n",
       "      <td>29.759000</td>\n",
       "    </tr>\n",
       "    <tr>\n",
       "      <th>50%</th>\n",
       "      <td>0.688000</td>\n",
       "      <td>3.300000</td>\n",
       "      <td>70.084000</td>\n",
       "    </tr>\n",
       "    <tr>\n",
       "      <th>75%</th>\n",
       "      <td>0.792000</td>\n",
       "      <td>5.100000</td>\n",
       "      <td>130.018000</td>\n",
       "    </tr>\n",
       "    <tr>\n",
       "      <th>max</th>\n",
       "      <td>0.941000</td>\n",
       "      <td>9.400000</td>\n",
       "      <td>6987.139000</td>\n",
       "    </tr>\n",
       "  </tbody>\n",
       "</table>\n",
       "</div>"
      ],
      "text/plain": [
       "         2008_IDH    2008_IPC  2008_Densidade Populacional\n",
       "count  165.000000  165.000000                   165.000000\n",
       "mean     0.649594    4.027879                   207.767133\n",
       "std      0.179619    2.120705                   745.490378\n",
       "min      0.270000    1.300000                     1.703000\n",
       "25%      0.495000    2.500000                    29.759000\n",
       "50%      0.688000    3.300000                    70.084000\n",
       "75%      0.792000    5.100000                   130.018000\n",
       "max      0.941000    9.400000                  6987.139000"
      ]
     },
     "execution_count": 78,
     "metadata": {},
     "output_type": "execute_result"
    }
   ],
   "source": [
    "Junto.describe()"
   ]
  },
  {
   "cell_type": "markdown",
   "metadata": {},
   "source": [
    "# Correlevancia dos dados analisados"
   ]
  },
  {
   "cell_type": "code",
   "execution_count": 79,
   "metadata": {
    "scrolled": false
   },
   "outputs": [
    {
     "data": {
      "text/html": [
       "<div>\n",
       "<style scoped>\n",
       "    .dataframe tbody tr th:only-of-type {\n",
       "        vertical-align: middle;\n",
       "    }\n",
       "\n",
       "    .dataframe tbody tr th {\n",
       "        vertical-align: top;\n",
       "    }\n",
       "\n",
       "    .dataframe thead th {\n",
       "        text-align: right;\n",
       "    }\n",
       "</style>\n",
       "<table border=\"1\" class=\"dataframe\">\n",
       "  <thead>\n",
       "    <tr style=\"text-align: right;\">\n",
       "      <th></th>\n",
       "      <th>2008_IDH</th>\n",
       "      <th>2008_IPC</th>\n",
       "      <th>2008_Densidade Populacional</th>\n",
       "    </tr>\n",
       "  </thead>\n",
       "  <tbody>\n",
       "    <tr>\n",
       "      <th>2008_IDH</th>\n",
       "      <td>1.000000</td>\n",
       "      <td>0.740279</td>\n",
       "      <td>0.161697</td>\n",
       "    </tr>\n",
       "    <tr>\n",
       "      <th>2008_IPC</th>\n",
       "      <td>0.740279</td>\n",
       "      <td>1.000000</td>\n",
       "      <td>0.259717</td>\n",
       "    </tr>\n",
       "    <tr>\n",
       "      <th>2008_Densidade Populacional</th>\n",
       "      <td>0.161697</td>\n",
       "      <td>0.259717</td>\n",
       "      <td>1.000000</td>\n",
       "    </tr>\n",
       "  </tbody>\n",
       "</table>\n",
       "</div>"
      ],
      "text/plain": [
       "                             2008_IDH  2008_IPC  2008_Densidade Populacional\n",
       "2008_IDH                     1.000000  0.740279                     0.161697\n",
       "2008_IPC                     0.740279  1.000000                     0.259717\n",
       "2008_Densidade Populacional  0.161697  0.259717                     1.000000"
      ]
     },
     "execution_count": 79,
     "metadata": {},
     "output_type": "execute_result"
    }
   ],
   "source": [
    "Junto.corr('pearson')"
   ]
  },
  {
   "cell_type": "markdown",
   "metadata": {},
   "source": [
    "# Gráfico do IDH pelo IPC"
   ]
  },
  {
   "cell_type": "code",
   "execution_count": 80,
   "metadata": {},
   "outputs": [
    {
     "data": {
      "text/plain": [
       "<function matplotlib.pyplot.show>"
      ]
     },
     "execution_count": 80,
     "metadata": {},
     "output_type": "execute_result"
    },
    {
     "data": {
      "image/png": "[encoded data removed]",
      "text/plain": [
       "<matplotlib.figure.Figure at 0x25e40957a58>"
      ]
     },
     "metadata": {},
     "output_type": "display_data"
    }
   ],
   "source": [
    "#Renomer coluna Corrupcao para indice de percepção da corrupção\n",
    "plt.scatter(Junto['2008_IDH'],Junto['2008_IPC'])\n",
    "sns.regplot(Junto[\"2008_IDH\"],Junto[\"2008_IPC\"], color=('green'))\n",
    "plt.xlabel('IDH')\n",
    "plt.ylabel('IPC')\n",
    "plt.grid(True)\n",
    "plt.show\n",
    "\n",
    "\n",
    "\n",
    "\n",
    "\n",
    "\n"
   ]
  },
  {
   "cell_type": "markdown",
   "metadata": {},
   "source": [
    "Ao analisarmos a relaçao do IDH e o IPC podemos perceber que eles possuem uma correlevância de 0.74 oque indicam que eles tem uma relaçao boa,com o gráfico scatter plot podemos perceber que a tendencia é que países com maior IDH possuam maior IPC porém,tal tendencia nao é seguida por todos visto que há países com baixo idh e um IPC acima da média e vice versa."
   ]
  },
  {
   "cell_type": "markdown",
   "metadata": {},
   "source": [
    "# Gráfico do Idh pela Densidade populacional por km²\n"
   ]
  },
  {
   "cell_type": "code",
   "execution_count": 81,
   "metadata": {},
   "outputs": [
    {
     "data": {
      "text/plain": [
       "<function matplotlib.pyplot.show>"
      ]
     },
     "execution_count": 81,
     "metadata": {},
     "output_type": "execute_result"
    },
    {
     "data": {
      "image/png": "[encoded data removed]",
      "text/plain": [
       "<matplotlib.figure.Figure at 0x25e40957978>"
      ]
     },
     "metadata": {},
     "output_type": "display_data"
    }
   ],
   "source": [
    "plt.scatter(Junto['2008_IDH'],Junto['2008_Densidade Populacional'])\n",
    "sns.regplot(Junto[\"2008_IDH\"],Junto[\"2008_Densidade Populacional\"], color=('red'))\n",
    "plt.xlabel('IDH')\n",
    "plt.ylabel('Densidade populacional')\n",
    "plt.grid(True)\n",
    "plt.show"
   ]
  },
  {
   "cell_type": "markdown",
   "metadata": {},
   "source": [
    "A partir da análise do IDH pela densidade populacional é compreendido que não há uma boa correlacao boa entre eles(correlação de 0.16) portanto não há uma tendencia seguida pelos países."
   ]
  },
  {
   "cell_type": "markdown",
   "metadata": {},
   "source": [
    "# Gráfico do IPC pela densidade populacional em km²"
   ]
  },
  {
   "cell_type": "code",
   "execution_count": 82,
   "metadata": {},
   "outputs": [
    {
     "data": {
      "text/plain": [
       "<function matplotlib.pyplot.show>"
      ]
     },
     "execution_count": 82,
     "metadata": {},
     "output_type": "execute_result"
    },
    {
     "data": {
      "image/png": "[encoded data removed]",
      "text/plain": [
       "<matplotlib.figure.Figure at 0x25e3f6cd7b8>"
      ]
     },
     "metadata": {},
     "output_type": "display_data"
    }
   ],
   "source": [
    "plt.scatter(Junto['2008_IPC'],Junto['2008_Densidade Populacional'])\n",
    "sns.regplot(Junto[\"2008_IPC\"],Junto[\"2008_Densidade Populacional\"], color=('blue'))\n",
    "plt.xlabel('IPC')\n",
    "plt.ylabel('Densidade populacional')\n",
    "plt.grid(True)\n",
    "plt.show"
   ]
  },
  {
   "cell_type": "markdown",
   "metadata": {},
   "source": [
    "O gráfico do IPC pela densidade populacional demonstra uma correlevancia baixa de 0.231 dando a mostrar que um indice nao interfere no outro sendo que a densidade populacional pode ser alta e o IPC baixo e vice versa,ou seja,não existe uma tendência entre os dados."
   ]
  },
  {
   "cell_type": "markdown",
   "metadata": {},
   "source": [
    "# Dataframe salvo em arquivo csv"
   ]
  },
  {
   "cell_type": "code",
   "execution_count": 83,
   "metadata": {},
   "outputs": [],
   "source": [
    "#Salvar em arquivo csv\n",
    "Junto.to_csv('Dataframe.csv', sep='\\t', encoding='utf-8',index=True)"
   ]
  },
  {
   "cell_type": "markdown",
   "metadata": {},
   "source": [
    "# Conclusão"
   ]
  },
  {
   "cell_type": "markdown",
   "metadata": {},
   "source": [
    "Ao fim da análise podemos aferir que a densidade populacional de um país nao influência em seu IDH,tomando como exemplo Bangladesh que possui um IDH de 0.484 e uma densidade populacional de 1010.280 e em contraposição a Suiça que possui um dos maiores IDHs de 0.892 e uma baixa densidade populacional de 183.442 e devemos ressaltar que o IPC da Suiça é 9.4 enquanto o de Bangladesh é de 2.4.A partir de varias comparaçoes pode se compreender que há uma tendência de países do hemisferio norte e principalmente aqueles com densidade populacional menor tendem a ter um IDH mais alto porém,sempre há exceções como por exemplo Bahrain.È possível fazer uma desmistificaçao com o filosofo Nicolau Maquiavel que diz no seu livro \"O principe\" que países com populaçôes mais proximas prosperam enquanto países com populações muito espalhadas tendem a desordem e ao caos.\n",
    "\n",
    "\n",
    "\n",
    "\n"
   ]
  },
  {
   "cell_type": "markdown",
   "metadata": {},
   "source": [
    "Em relação ao IPC nao podemos assegurar uma conclusão segura porém,a analise dos dados nos mostrou que a tendência é que países com maior transparência,ou seja, IPC mais próximo de 0,geralmente possuem maior IDH algo que já era esperado pois se o governo age de forma correta e em prol da sociedade como sempre deveria ser,o país tende a somente desenvolver."
   ]
  },
  {
   "cell_type": "markdown",
   "metadata": {},
   "source": [
    "Assim respondendo a pergunta:'Tendo em vista tal índice,é possivel que a densidade populacional e o índice de percepção da corrupção de um país interfira em seu IDH?'.Não se pode dizer que a densidade populacional e o IPC nao interfiram pois ambos interferem porém após a análise foi entendido que a densidade populacional influência muito pouco no IDH enquanto o IPC influência razoavelmente no IDH.Pode se argumentar que a corrupção tem uma influência maior pois o governo que direciona os investimentos para áreas de saúde,educação,etc e se houver corrupção os investimentos e desenvolvimentos serão mais demorados e não eficientes assim prejudicando o desenvolvimento humano.A densidade populacional por ser baseada na distribuição da populção no território nao consegue fornecer dados acerca de como essa distribuição afeta a saúde,economia e educação em diferentes áreas e por isso nao é influente para o IDH\n"
   ]
  },
  {
   "cell_type": "code",
   "execution_count": null,
   "metadata": {},
   "outputs": [],
   "source": []
  }
 ],
 "metadata": {
  "kernelspec": {
   "display_name": "Python 3",
   "language": "python",
   "name": "python3"
  },
  "language_info": {
   "codemirror_mode": {
    "name": "ipython",
    "version": 3
   },
   "file_extension": ".py",
   "mimetype": "text/x-python",
   "name": "python",
   "nbconvert_exporter": "python",
   "pygments_lexer": "ipython3",
   "version": "3.6.4"
  }
 },
 "nbformat": 4,
 "nbformat_minor": 2
}
